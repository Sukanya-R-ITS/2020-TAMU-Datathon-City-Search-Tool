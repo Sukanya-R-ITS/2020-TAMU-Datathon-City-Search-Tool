{
  "nbformat": 4,
  "nbformat_minor": 0,
  "metadata": {
    "colab": {
      "name": "2020_TAMU_Datathon V3.ipynb",
      "provenance": [],
      "collapsed_sections": []
    },
    "kernelspec": {
      "display_name": "Python 3",
      "language": "python",
      "name": "python3"
    },
    "language_info": {
      "codemirror_mode": {
        "name": "ipython",
        "version": 3
      },
      "file_extension": ".py",
      "mimetype": "text/x-python",
      "name": "python",
      "nbconvert_exporter": "python",
      "pygments_lexer": "ipython3",
      "version": "3.7.6"
    }
  },
  "cells": [
    {
      "cell_type": "markdown",
      "metadata": {
        "id": "LkeJ5UuDhVCD"
      },
      "source": [
        "<h2> DataThon 2020 City Search Tool (Beginner)</h2>"
      ]
    },
    {
      "cell_type": "markdown",
      "metadata": {
        "id": "g_hv4gdihYWa"
      },
      "source": [
        "<h3>Team Members<h3>\n",
        "<li>John(Shih-Chiang) Wei</li><br>\n",
        "<li>Sukanya Rammohan</li><br>\n",
        "<li>Jung Hoon Seo</li>"
      ]
    },
    {
      "cell_type": "markdown",
      "metadata": {
        "id": "r2EWQLkuXH14"
      },
      "source": [
        "<h2>Dataset</h2><br>\n",
        "Crime: https://www.kaggle.com/mikejohnsonjr/united-states-crime-rates-by-county?select=crime_data_w_population_and_crime_rate.csv<br>\n",
        "Temperature: https://www.ncdc.noaa.gov/ghcn/comparative-climatic-data https://data.world/gmoney/us-city-temp-ranges<br>\n",
        "Educated: https://wallethub.com/edu/most-and-least-educated-cities/6656<br>\n",
        "Covid19-info: Texas A&M University CS data science course<br>\n",
        "Fast-Food: https://www.kaggle.com/datafiniti/fast-food-restaurants?select=Datafiniti_Fast_Food_Restaurants.csv<br>\n",
        "Population Density: https://www.census.gov/data/datasets/time-series/demo/popest/2010s-total-cities-and-towns.html<br>\n",
        "\n",
        "\n"
      ]
    },
    {
      "cell_type": "markdown",
      "metadata": {
        "id": "TawW6U1Yhi1H"
      },
      "source": [
        "<h2>Data preprocessing & cleaning</h2>"
      ]
    },
    {
      "cell_type": "code",
      "metadata": {
        "id": "bz-NnzOJXJr5",
        "outputId": "fd75d0b4-bbb4-4c6c-877d-5b60f4018013",
        "colab": {
          "base_uri": "https://localhost:8080/",
          "height": 126
        }
      },
      "source": [
        "! git clone https://github.com/John-STJB/2020-TAMU-Datathon-City-Search-Tool.git\n"
      ],
      "execution_count": 1,
      "outputs": [
        {
          "output_type": "stream",
          "text": [
            "Cloning into '2020-TAMU-Datathon-City-Search-Tool'...\n",
            "remote: Enumerating objects: 22, done.\u001b[K\n",
            "remote: Counting objects: 100% (22/22), done.\u001b[K\n",
            "remote: Compressing objects: 100% (20/20), done.\u001b[K\n",
            "remote: Total 22 (delta 1), reused 0 (delta 0), pack-reused 0\u001b[K\n",
            "Unpacking objects: 100% (22/22), done.\n"
          ],
          "name": "stdout"
        }
      ]
    },
    {
      "cell_type": "code",
      "metadata": {
        "id": "7aO7RXh1kAk-"
      },
      "source": [
        "import csv\n",
        "import collections\n",
        "import pandas as pd\n",
        "import numpy as np\n",
        "\n",
        "dic_total = collections.defaultdict(dict)\n",
        "filename = \"/content/2020-TAMU-Datathon-City-Search-Tool/Processor/uscitypopdensity.csv\"\n",
        "\n",
        "with open(filename, \"r\") as csvfile:\n",
        "    csvreader = csv.reader(csvfile)\n",
        "    i = 0\n",
        "    for row in csvreader:\n",
        "        if i != 0:\n",
        "            dic_total[row[1].lower()][\"Popluation_Density\"] = row[3]\n",
        "        i += 1\n",
        "\n",
        "filename = \"/content/2020-TAMU-Datathon-City-Search-Tool/Processor/farmers_markets_from_usda.csv\"\n",
        "with open(filename, \"r\") as csvfile:\n",
        "    csvreader = csv.reader(csvfile)\n",
        "    \n",
        "    i = 0\n",
        "    for row in csvreader:\n",
        "        if i != 0 and row[0].lower() in dic_total:\n",
        "            cnt = 0\n",
        "            if \"Markets_Numbers\" not in dic_total[row[0].lower()]:\n",
        "                for let in row[1:]:\n",
        "                    if let == \"Y\":\n",
        "                        cnt += 1\n",
        "                dic_total[row[0].lower()][\"Markets_Numbers\"] = cnt  \n",
        "        i += 1\n",
        "\n",
        "filename = \"/content/2020-TAMU-Datathon-City-Search-Tool/Processor/Most Educated Cities.csv\"\n",
        "with open(filename, \"r\") as csvfile:\n",
        "    csvreader = csv.reader(csvfile)\n",
        "    \n",
        "    i = 0\n",
        "    for row in csvreader:\n",
        "        if i != 0:\n",
        "            name = row[0]\n",
        "            val = row[1]\n",
        "            name = name.split(\",\")[0]\n",
        "            for n in name.split(\"-\"):\n",
        "            #print(name)\n",
        "                if n.lower() in dic_total:\n",
        "                    dic_total[n.lower()][\"Educated_Score\"] = val\n",
        "                    #print(dic_total[n.lower()][\"Educated_Score\"])\n",
        "        else:\n",
        "            i += 1\n",
        "\n",
        "\n",
        "filename = \"/content/2020-TAMU-Datathon-City-Search-Tool/Processor/FastFood.csv\"\n",
        "with open(filename, \"r\") as csvfile:\n",
        "    csvreader = csv.reader(csvfile)      \n",
        "    i = 0\n",
        "    for row in csvreader:\n",
        "        if i != 0:\n",
        "            name = row[0].lower()\n",
        "            if name in dic_total:\n",
        "                if \"Fastfood_Restaurant_Numbers\" not in dic_total[name]:\n",
        "                    dic_total[name][\"Fastfood_Restaurant_Numbers\"] = 1\n",
        "                else:\n",
        "                    dic_total[name][\"Fastfood_Restaurant_Numbers\"] += 1\n",
        "        i += 1\n",
        "\n",
        "\n",
        "key = list(dic_total.keys())\n",
        "for k in key:\n",
        "    if len(dic_total[k]) != 4:\n",
        "        del dic_total[k]\n",
        "#print(len(dic_total))\n",
        "\n",
        "\n",
        "\n",
        "key = [\"CityName\",\"Popluation_Density\",\"Markets_Numbers\",\"Educated_Score\",\"Fastfood_Restaurant_Numbers\"] \n",
        "\n",
        "filename = \"/content/2020-TAMU-Datathon-City-Search-Tool/Processor/result.csv\"\n",
        "with open(filename, \"w\") as csvfile:\n",
        "    csvwriter = csv.writer(csvfile)      \n",
        "    \n",
        "    csvwriter.writerow(key)\n",
        "\n",
        "    for k, val in dic_total.items():\n",
        "        row = [k]\n",
        "        for feature in key[1:]:\n",
        "            row.append(dic_total[k][feature])\n",
        "        csvwriter.writerow(row)\n"
      ],
      "execution_count": 2,
      "outputs": []
    },
    {
      "cell_type": "code",
      "metadata": {
        "id": "mpLs0NY5hOHf"
      },
      "source": [
        "\n",
        "\n",
        "dic_total = collections.defaultdict(list)\n",
        "\n",
        "filename = \"/content/2020-TAMU-Datathon-City-Search-Tool/Processor/result_v1.csv\"\n",
        "with open(filename, \"r\") as csvfile:\n",
        "    csvreader = csv.reader(csvfile)\n",
        "    i = 0\n",
        "    for row in csvreader:\n",
        "        if i == 0:\n",
        "            keys = row\n",
        "            i += 1\n",
        "        else:\n",
        "            name = row[1].lower()\n",
        "            dic_total[name].append(row)"
      ],
      "execution_count": 3,
      "outputs": []
    },
    {
      "cell_type": "code",
      "metadata": {
        "id": "EFv5DL5-hrnq"
      },
      "source": [
        "keys.append(\"Covid19_Confirmed_Numbers\")\n",
        "filename = \"/content/2020-TAMU-Datathon-City-Search-Tool/Processor/time_series_covid19_confirmed_US.csv\"\n",
        "with open(filename, \"r\") as csvfile:\n",
        "    csvreader = csv.reader(csvfile)\n",
        "    i = 0\n",
        "    visited = set()\n",
        "    for row in csvreader:\n",
        "        if i == 0:\n",
        "            i += 1\n",
        "        else:\n",
        "            name = row[0].lower()\n",
        "            if name in visited:\n",
        "                continue\n",
        "            visited.add(name)\n",
        "            if name in dic_total:\n",
        "                for i in range(len(dic_total[name])):\n",
        "                    dic_total[name][i].append(row[1])\n",
        "            #else:\n",
        "                #print(name)\n",
        "\n",
        "keys.append(\"Covid19_Deaths_Numbers\")\n",
        "filename = \"/content/2020-TAMU-Datathon-City-Search-Tool/Processor/time_series_covid19_deaths_US.csv\"\n",
        "with open(filename, \"r\") as csvfile:\n",
        "    csvreader = csv.reader(csvfile)\n",
        "    i = 0\n",
        "    visited = set()\n",
        "    for row in csvreader:\n",
        "        if i == 0:\n",
        "            i += 1\n",
        "        else:\n",
        "            name = row[0].lower()\n",
        "            if name in visited:\n",
        "                continue\n",
        "            visited.add(name)\n",
        "            if name in dic_total:\n",
        "                for i in range(len(dic_total[name])):\n",
        "                    dic_total[name][i].append(row[1])\n",
        "\n",
        "\n",
        "\n",
        "\n",
        "k = list(dic_total.keys())\n",
        "cnt = 0\n",
        "for l in k:\n",
        "    #print(len(dic_total[l]))\n",
        "    if len(dic_total[l][0]) != 8:\n",
        "        x = len(dic_total[l][0])\n",
        "        for i in range(len(dic_total[l])):\n",
        "            for j in range(8-x):\n",
        "                dic_total[l][i].append(\" \")\n",
        "    cnt += len(dic_total[l])\n",
        "#print(cnt)\n",
        "\n",
        "\n",
        "\n",
        "keys.append(\"Annual_Temperature\")\n",
        "filename = \"/content/2020-TAMU-Datathon-City-Search-Tool/Processor/weather_sorted.csv\"\n",
        "with open(filename, \"r\") as csvfile:\n",
        "    csvreader = csv.reader(csvfile)\n",
        "    i = 0\n",
        "    visited = set()\n",
        "    for row in csvreader:\n",
        "        if i == 0:\n",
        "            i += 1\n",
        "        else:\n",
        "            name = row[1].lower()\n",
        "            if name in visited:\n",
        "                continue\n",
        "            visited.add(name)\n",
        "            if name in dic_total:\n",
        "                for i in range(len(dic_total[name])):\n",
        "                    dic_total[name][i].append(row[15])\n",
        "\n",
        "k = list(dic_total.keys())\n",
        "cnt = 0\n",
        "for l in k:\n",
        "    #print(len(dic_total[l]))\n",
        "    if len(dic_total[l][0]) != 9:\n",
        "        x = len(dic_total[l][0])\n",
        "        for i in range(len(dic_total[l])):\n",
        "            for j in range(9-x):\n",
        "                dic_total[l][i].append(\" \")\n",
        "    cnt += len(dic_total[l])\n",
        "#print(dic_total)\n",
        "#print(cnt)\n",
        "\n",
        "\n",
        "\n",
        "keys.append(\"Crime_Rate\")\n",
        "filename = \"/content/2020-TAMU-Datathon-City-Search-Tool/Processor/crime_data_w_population_and_crime_rate.csv\"\n",
        "with open(filename, \"r\") as csvfile:\n",
        "    csvreader = csv.reader(csvfile)\n",
        "    i = 0\n",
        "    visited = set()\n",
        "    for row in csvreader:\n",
        "        if i == 0:\n",
        "            i += 1\n",
        "        else:\n",
        "            name = row[0]\n",
        "            name = name.split(\",\")\n",
        "            name = \"\".join(name).split(\" \")[0]\n",
        "            name = name.lower()\n",
        "            if name in visited:\n",
        "                continue\n",
        "            visited.add(name)\n",
        "            if name in dic_total:\n",
        "                for i in range(len(dic_total[name])):\n",
        "                    dic_total[name][i].append(row[1])\n",
        "\n",
        "k = list(dic_total.keys())\n",
        "cnt = 0\n",
        "for l in k:\n",
        "    #print(len(dic_total[l]))\n",
        "    if len(dic_total[l][0]) != 10:\n",
        "        x = len(dic_total[l][0])\n",
        "        for i in range(len(dic_total[l])):\n",
        "            for j in range(10-x):\n",
        "                dic_total[l][i].append(\" \")\n",
        "    cnt += len(dic_total[l])\n",
        "#print(dic_total)\n",
        "#print(cnt)\n",
        "\n",
        "filename = \"/content/2020-TAMU-Datathon-City-Search-Tool/Processor/result_v2.csv\"\n",
        "with open(filename, \"w\") as csvfile:\n",
        "    csvwriter = csv.writer(csvfile)      \n",
        "    \n",
        "    csvwriter.writerow(keys)\n",
        "\n",
        "    for k, val in dic_total.items():\n",
        "        \n",
        "        for row in dic_total[k]:\n",
        "            csvwriter.writerow(row)"
      ],
      "execution_count": 4,
      "outputs": []
    },
    {
      "cell_type": "markdown",
      "metadata": {
        "id": "CE8ZVrvNhzP6"
      },
      "source": [
        "<h3>Results after data preprocessing</h3>"
      ]
    },
    {
      "cell_type": "code",
      "metadata": {
        "id": "iYCUuDy9h1D_",
        "outputId": "7bcec5f4-0fbe-4428-a4b0-f5b4d1acc243",
        "colab": {
          "base_uri": "https://localhost:8080/",
          "height": 218
        }
      },
      "source": [
        "data = pd.read_csv(filename)\n",
        "\n",
        "data.head()"
      ],
      "execution_count": 5,
      "outputs": [
        {
          "output_type": "execute_result",
          "data": {
            "text/html": [
              "<div>\n",
              "<style scoped>\n",
              "    .dataframe tbody tr th:only-of-type {\n",
              "        vertical-align: middle;\n",
              "    }\n",
              "\n",
              "    .dataframe tbody tr th {\n",
              "        vertical-align: top;\n",
              "    }\n",
              "\n",
              "    .dataframe thead th {\n",
              "        text-align: right;\n",
              "    }\n",
              "</style>\n",
              "<table border=\"1\" class=\"dataframe\">\n",
              "  <thead>\n",
              "    <tr style=\"text-align: right;\">\n",
              "      <th></th>\n",
              "      <th>CityName</th>\n",
              "      <th>County</th>\n",
              "      <th>Popluation_Density</th>\n",
              "      <th>Markets_Numbers</th>\n",
              "      <th>Educated_Score</th>\n",
              "      <th>Fastfood_Restaurant_Numbers</th>\n",
              "      <th>Covid19_Confirmed_Numbers</th>\n",
              "      <th>Covid19_Deaths_Numbers</th>\n",
              "      <th>Annual_Temperature</th>\n",
              "      <th>Crime_Rate</th>\n",
              "    </tr>\n",
              "  </thead>\n",
              "  <tbody>\n",
              "    <tr>\n",
              "      <th>0</th>\n",
              "      <td>akron</td>\n",
              "      <td>Summit</td>\n",
              "      <td>3186</td>\n",
              "      <td>11</td>\n",
              "      <td>52.94</td>\n",
              "      <td>5</td>\n",
              "      <td>5073</td>\n",
              "      <td>248</td>\n",
              "      <td></td>\n",
              "      <td>377.428833</td>\n",
              "    </tr>\n",
              "    <tr>\n",
              "      <th>1</th>\n",
              "      <td>albany</td>\n",
              "      <td>Albany</td>\n",
              "      <td>3034</td>\n",
              "      <td>0</td>\n",
              "      <td>65.14</td>\n",
              "      <td>13</td>\n",
              "      <td>3006</td>\n",
              "      <td>134</td>\n",
              "      <td>57.8</td>\n",
              "      <td>330.6781345</td>\n",
              "    </tr>\n",
              "    <tr>\n",
              "      <th>2</th>\n",
              "      <td>albuquerque</td>\n",
              "      <td>Bernalillo</td>\n",
              "      <td>2979</td>\n",
              "      <td>2</td>\n",
              "      <td>57.75</td>\n",
              "      <td>35</td>\n",
              "      <td>6198</td>\n",
              "      <td>170</td>\n",
              "      <td></td>\n",
              "      <td></td>\n",
              "    </tr>\n",
              "    <tr>\n",
              "      <th>3</th>\n",
              "      <td>alexandria</td>\n",
              "      <td>Calhoun</td>\n",
              "      <td>10367</td>\n",
              "      <td>15</td>\n",
              "      <td>81.70</td>\n",
              "      <td>19</td>\n",
              "      <td>3320</td>\n",
              "      <td>39</td>\n",
              "      <td></td>\n",
              "      <td>689.8666258</td>\n",
              "    </tr>\n",
              "    <tr>\n",
              "      <th>4</th>\n",
              "      <td>allentown</td>\n",
              "      <td>lehigh</td>\n",
              "      <td>6863</td>\n",
              "      <td>13</td>\n",
              "      <td>46.59</td>\n",
              "      <td>2</td>\n",
              "      <td>5469</td>\n",
              "      <td>346</td>\n",
              "      <td></td>\n",
              "      <td>259.65102</td>\n",
              "    </tr>\n",
              "  </tbody>\n",
              "</table>\n",
              "</div>"
            ],
            "text/plain": [
              "      CityName      County  ...  Annual_Temperature   Crime_Rate\n",
              "0        akron      Summit  ...                       377.428833\n",
              "1       albany      Albany  ...                57.8  330.6781345\n",
              "2  albuquerque  Bernalillo  ...                                 \n",
              "3   alexandria     Calhoun  ...                      689.8666258\n",
              "4    allentown      lehigh  ...                        259.65102\n",
              "\n",
              "[5 rows x 10 columns]"
            ]
          },
          "metadata": {
            "tags": []
          },
          "execution_count": 5
        }
      ]
    },
    {
      "cell_type": "markdown",
      "metadata": {
        "id": "6fhEppDU_50S"
      },
      "source": [
        "<h3>Applying KNN model to the dataset</h3><br>\n",
        "The Concept is to apply K-NN algorithm to score each city by users input after we preprocess the dataset. Before training, We use the cluster method for each feature."
      ]
    },
    {
      "cell_type": "markdown",
      "metadata": {
        "id": "EI9mVDeh8ZM2"
      },
      "source": [
        "<h3>Extract Data</h3>"
      ]
    },
    {
      "cell_type": "code",
      "metadata": {
        "id": "eeTVFZjk8bFS",
        "outputId": "0d53485f-63f8-47bf-f07f-209843f927d7",
        "colab": {
          "base_uri": "https://localhost:8080/",
          "height": 128
        }
      },
      "source": [
        "def parse_dataset(filename):\n",
        "  data_set = []\n",
        "  \n",
        "  with open(filename, \"r\") as csvfile:\n",
        "    csvreader = csv.reader(csvfile)\n",
        "    i = 0\n",
        "    for row in csvreader:\n",
        "      if i == 0:\n",
        "        features_list = row\n",
        "        i += 1\n",
        "        continue\n",
        "      else:\n",
        "        temp = []\n",
        "        for i in range(len(row)):\n",
        "          if i == 0 or i == 1 or row[i] == \" \":\n",
        "            temp.append(row[i])\n",
        "          else:\n",
        "            #print(row[i])\n",
        "            temp.append(float(row[i]))\n",
        "            \n",
        "        data_set.append(temp[:])\n",
        "\n",
        "\n",
        "    return data_set, features_list\n",
        "\n",
        "dataset, features = parse_dataset(\"/content/2020-TAMU-Datathon-City-Search-Tool/After_preprocess_result.csv\")\n",
        "print(features)\n",
        "for i in range(4):\n",
        "  print(dataset[i])\n"
      ],
      "execution_count": 6,
      "outputs": [
        {
          "output_type": "stream",
          "text": [
            "['CityName', 'County', 'Popluation_Density', 'Markets_Numbers', 'Educated_Score', 'Fastfood_Restaurant_Numbers', 'Covid19_Confirmed_Numbers', 'Covid19_Deaths_Numbers', 'Annual_Temperature', 'Crime_Rate']\n",
            "['akron', 'Summit', 3186.0, 11.0, 52.94, 5.0, 5073.0, 248.0, ' ', 377.428833]\n",
            "['albany', 'Albany', 3034.0, 0.0, 65.14, 13.0, 3006.0, 134.0, 57.8, 330.6781345]\n",
            "['albuquerque', 'Bernalillo', 2979.0, 2.0, 57.75, 35.0, 6198.0, 170.0, ' ', ' ']\n",
            "['alexandria', 'Calhoun', 10367.0, 15.0, 81.7, 19.0, 3320.0, 39.0, ' ', 689.8666258]\n"
          ],
          "name": "stdout"
        }
      ]
    },
    {
      "cell_type": "markdown",
      "metadata": {
        "id": "YgZ4i0Ds4JUf"
      },
      "source": [
        "Fisrt, we would modified the dataset in to ranking value based on mean and variance value for each feature."
      ]
    },
    {
      "cell_type": "code",
      "metadata": {
        "id": "xkTKFDDBA7d0"
      },
      "source": [
        "import math\n",
        "def cal_mean(data_set,n):\n",
        "  mean = [0] * n\n",
        "  real_count = [0] * n\n",
        "  for data in data_set:\n",
        "    for i in range(2,n):\n",
        "      if data[i] != \" \":\n",
        "        real_count[i] += 1\n",
        "        mean[i] += data[i]\n",
        "  return mean, real_count\n",
        "\n",
        "def cal_deviation(data_set, n, mean, real_count):\n",
        "  deviation = [0] * n\n",
        "  for data in data_set:\n",
        "    for i in range(2,n):\n",
        "      if data[i] != \" \":\n",
        "        deviation[i] += (data[i]-(mean[i]/real_count[i]))**2\n",
        "  for i in range(2,n):\n",
        "    deviation[i] = math.sqrt(deviation[i]/(real_count[i]-1))\n",
        "    mean[i] = mean[i]/real_count[i]\n",
        "  \n",
        "  return mean, deviation\n"
      ],
      "execution_count": 7,
      "outputs": []
    },
    {
      "cell_type": "code",
      "metadata": {
        "id": "0F0V6Bxx4JEO",
        "outputId": "d7bed2cd-74d5-49af-903c-717cb01644b4",
        "colab": {
          "base_uri": "https://localhost:8080/",
          "height": 72
        }
      },
      "source": [
        "m_temp, real_count = cal_mean(dataset, len(features))\n",
        "mean, deviation = cal_deviation(dataset, len(features), m_temp, real_count)\n",
        "print(mean)\n",
        "print(deviation)\n",
        "print(real_count)\n"
      ],
      "execution_count": 8,
      "outputs": [
        {
          "output_type": "stream",
          "text": [
            "[0, 0, 4161.382352941177, 11.305882352941177, 53.091999999999956, 14.31764705882353, 16063.35582822086, 403.5766871165644, 66.88787878787879, 498.24679358762603]\n",
            "[0, 0, 3585.121001108071, 9.742268704603894, 14.750817993565308, 15.075911869312044, 35699.12394050474, 886.5065498404086, 8.907537453463135, 247.6429895100989]\n",
            "[0, 0, 170, 170, 170, 170, 163, 163, 33, 139]\n"
          ],
          "name": "stdout"
        }
      ]
    },
    {
      "cell_type": "markdown",
      "metadata": {
        "id": "Dv3Q2pspIDiJ"
      },
      "source": [
        "Define the clustering critiria (roughly apaply normal distribution)\n",
        "\n",
        "value > mean + 1.5dev: high = 3\n",
        "\n",
        "value in mean +/- 1.5dev: med = 2\n",
        "\n",
        "value in mean-1.5dev ~ mean-3dev: low = 1\n",
        "\n",
        "value < mean-3dev: None = 0\n"
      ]
    },
    {
      "cell_type": "code",
      "metadata": {
        "id": "C8YHRb-pH7KS",
        "outputId": "59aa6ed8-ad31-4178-e181-659e50ac1fbb",
        "colab": {
          "base_uri": "https://localhost:8080/",
          "height": 92
        }
      },
      "source": [
        "def criteria(val, mean, dev):\n",
        "  if val < mean-2*dev:\n",
        "    return 0\n",
        "  elif mean-2*dev <= val < mean-0.4*dev:\n",
        "    return 1\n",
        "  elif mean-0.4*dev <= val < mean+0.5*dev:\n",
        "    return 2\n",
        "  elif mean+0.5*dev <= val < mean+1*dev:\n",
        "    return 3\n",
        "  else:\n",
        "    return 4\n",
        "\n",
        "def transform_data(x, mean, dev):\n",
        "\n",
        "  for i in range(len(x)):\n",
        "    for j in range(len(x[0])):\n",
        "      if x[i][j] != \" \":\n",
        "        x[i][j] = criteria(x[i][j],mean[j],dev[j])\n",
        "  return x\n",
        "\n",
        "\n",
        "\n",
        "x = [data[2:] for data in dataset]\n",
        "\n",
        "X = transform_data(x, mean[2:], deviation[2:])\n",
        "print(X)\n",
        "print(len(X))\n",
        "print(features)\n"
      ],
      "execution_count": 9,
      "outputs": [
        {
          "output_type": "stream",
          "text": [
            "[[2, 2, 2, 1, 2, 2, ' ', 1], [2, 1, 3, 2, 2, 2, 1, 1], [2, 1, 2, 4, 2, 2, ' ', ' '], [4, 2, 4, 2, 2, 1, ' ', 3], [3, 2, 1, 1, 2, 2, ' ', 1], [2, 1, 1, 1, 2, 2, ' ', 1], [3, 2, 2, 2, 4, 3, ' ', 3], [1, 1, 2, 4, 4, 3, ' ', 3], [1, 3, 2, 1, 2, 1, 0, 4], [1, 1, 2, 2, 1, 1, ' ', 2], [2, 4, 4, 1, 2, 2, ' ', 1], [2, 2, 2, 2, 3, 2, ' ', 2], [1, 1, 2, 3, 3, 2, ' ', 2], [1, 4, 2, 1, 2, 2, ' ', 1], [2, 4, 4, 4, 1, 1, ' ', 1], [1, 4, 0, 1, 2, 2, ' ', 2], [3, 1, 3, 1, 2, 2, 2, 4], [2, 4, 3, 1, 1, 1, ' ', 2], [1, 3, 2, 2, 1, 1, ' ', 2], [4, 4, 4, 2, 2, 3, ' ', 1], [2, 1, 2, 1, 2, 2, ' ', 2], [4, 2, 4, 1, 2, 4, ' ', 3], [2, 1, 1, 2, 2, 4, ' ', 3], [1, 1, 0, 1, 1, 1, ' ', 1], [1, 2, 0, 2, 1, 1, ' ', 1], [3, 2, 2, 1, 2, 2, 1, 2], [4, 1, 2, 1, 1, 1, ' ', 1], [2, 2, 3, 1, 3, 2, ' ', ' '], [2, 3, 3, 2, 3, 2, ' ', ' '], [1, 2, 2, 1, 1, 1, ' ', 3], [1, 4, 1, 2, 1, 1, ' ', 3], [2, 2, 2, 4, 1, 1, ' ', 3], [1, 1, 2, 2, 1, 1, ' ', 3], [2, 4, 4, 1, ' ', ' ', ' ', ' '], [1, 4, 2, 2, 2, 2, 2, 2], [2, 1, 2, 2, 2, 2, 2, 1], [4, 1, 3, 4, 1, 1, ' ', 2], [2, 1, 2, 1, 1, 1, ' ', 1], [2, 2, 2, 4, 2, 2, ' ', 2], [1, 2, 4, 2, 2, 2, 4, ' '], [1, 1, 1, 2, 2, 2, 4, ' '], [1, 3, 2, 4, 1, 2, 1, 1], [1, 2, 2, 1, 2, 2, ' ', 1], [1, 1, 1, 2, 2, 1, ' ', 1], [1, 3, 1, 1, ' ', ' ', 4, ' '], [1, 1, 2, 1, 2, 1, ' ', 4], [2, 1, 2, 4, 1, 1, ' ', 4], [1, 2, 1, 1, 1, 1, ' ', 2], [1, 3, 1, 1, 1, 1, ' ', 2], [1, 1, 2, 3, 2, 2, 4, 2], [1, 3, 1, 2, 2, 2, 4, 2], [1, 3, 1, 1, 2, 2, ' ', 2], [2, 3, 2, 1, 1, 1, ' ', 1], [2, 1, 4, 4, 2, 2, 2, ' '], [1, 2, 2, 1, 1, 1, 1, ' '], [2, 1, 2, 2, 1, 1, ' ', 4], [1, 4, 4, 2, 2, 2, ' ', 2], [1, 1, 0, 1, 1, 1, ' ', 2], [2, 1, 0, 1, 1, 1, ' ', 2], [1, 2, 0, 1, 1, 1, ' ', 2], [2, 1, 3, 1, 1, 1, ' ', 4], [1, 1, 2, 1, 2, 2, ' ', 1], [2, 4, 2, 1, 1, 1, ' ', 1], [1, 2, 2, 2, 1, 1, ' ', 2], [1, 4, 1, 1, 2, 2, ' ', 3], [1, 4, 1, 1, 2, 2, ' ', 2], [1, 2, 2, 3, 1, 1, ' ', 1], [2, 1, 1, 1, 2, 2, ' ', 2], [1, 3, 2, 1, 2, 2, ' ', 1], [2, 3, 2, 2, 2, 2, ' ', 2], [1, 1, 2, 1, 2, 2, ' ', 2], [1, 3, 2, 4, 2, 2, ' ', 2], [1, 4, 1, 1, 1, 1, ' ', 1], [3, 2, 3, 2, 1, 1, ' ', 1], [1, 4, 1, 2, 1, 1, ' ', 3], [2, 2, 4, 2, 1, 1, ' ', 2], [4, 1, 4, 4, 1, 1, ' ', 2], [2, 4, 2, 4, 2, 1, 4, 2], [1, 3, 3, 2, 2, 2, 1, 4], [2, 1, 4, 2, 2, 2, 1, 4], [1, 1, 2, 3, 1, 1, ' ', 4], [1, 3, 1, 1, 1, 1, ' ', 4], [1, 4, 2, 4, 1, 1, 2, 2], [1, 1, 2, 4, 2, 2, ' ', 3], [4, 3, 3, 1, 2, 4, ' ', 2], [1, 1, 2, 2, 2, 2, ' ', 2], [2, 1, 2, 2, 2, 2, ' ', 2], [1, 4, 2, 3, ' ', ' ', 2, ' '], [1, 2, 1, 2, 1, 1, ' ', 2], [4, 3, 4, 1, 2, 2, ' ', 3], [4, 3, 1, 2, 2, 1, ' ', 2], [2, 2, 3, 1, 2, 1, ' ', 2], [2, 1, 1, 4, 1, 1, ' ', 3], [1, 2, 3, 4, 2, 2, 2, 1], [1, 2, 2, 1, 2, 2, ' ', 4], [4, 1, 2, 2, 4, 4, ' ', ' '], [4, 1, 2, 4, 4, 4, ' ', ' '], [1, 2, 1, 4, 2, 2, ' ', 1], [4, 3, 2, 4, 4, 4, ' ', 3], [3, 1, 2, 2, 2, 2, 1, 4], [3, 2, 3, 4, 2, 3, ' ', 2], [1, 1, 1, 2, 2, 2, 4, 2], [2, 1, 0, 2, ' ', ' ', ' ', 2], [1, 3, 2, 2, 1, 1, ' ', 1], [2, 1, 2, 1, 3, 2, ' ', 1], [2, 2, 2, 2, 3, 2, ' ', 1], [1, 1, 2, 2, 2, 1, ' ', 4], [1, 1, 1, 1, 2, 2, ' ', 1], [3, 1, 2, 1, 2, 3, ' ', ' '], [1, 2, 1, 1, ' ', ' ', 4, ' '], [4, 4, 3, 4, 2, 4, ' ', ' '], [4, 1, 3, 2, 2, 3, ' ', 3], [1, 3, 2, 1, 2, 1, ' ', ' '], [2, 1, 2, 2, 2, 3, 1, 2], [2, 2, 2, 3, 1, 1, ' ', 1], [2, 3, 2, 2, 2, 2, ' ', 2], [2, 3, 1, 1, 4, 3, ' ', ' '], [2, 1, 1, 1, 4, 3, ' ', ' '], [3, 2, 2, 1, 2, 2, ' ', 1], [1, 1, 2, 2, 1, 1, ' ', 4], [1, 1, 2, 2, 2, 1, 1, 2], [4, 1, 2, 3, 3, 4, ' ', 4], [2, 4, 2, 4, 4, 4, ' ', 2], [1, 1, 2, 2, 4, 4, ' ', 2], [2, 1, 2, 2, 2, 2, ' ', ' '], [2, 4, 4, 4, 2, 2, ' ', ' '], [4, 2, 2, 1, 2, 1, ' ', ' '], [2, 1, 4, 1, 2, 2, ' ', 1], [2, 2, 4, 2, 2, 2, ' ', 1], [1, 3, 2, 2, 2, 2, ' ', 1], [2, 3, 2, 3, 2, 2, 2, 3], [2, 4, 1, 1, 4, 3, ' ', 1], [1, 4, 1, 1, 1, 1, ' ', 4], [1, 1, 2, 1, 1, 1, ' ', 1], [2, 1, 2, 1, 2, 1, ' ', 1], [1, 3, 3, 2, 1, 1, ' ', 1], [2, 1, 2, 2, ' ', ' ', 3, 2], [2, 1, 1, 3, 1, 2, 2, 1], [3, 2, 1, 1, 2, 2, ' ', 2], [2, 1, 1, 3, 3, 3, ' ', ' '], [4, 2, 4, 1, 2, 2, ' ', ' '], [2, 4, 4, 2, 2, 2, ' ', ' '], [3, 4, 4, 1, 2, 2, ' ', ' '], [3, 4, 4, 1, 2, 2, ' ', ' '], [1, 3, 2, 1, 1, 1, ' ', 1], [2, 1, 2, 1, 2, 2, 2, ' '], [2, 1, 2, 2, 2, 2, 2, ' '], [2, 1, 2, 1, 2, 2, ' ', 1], [2, 4, 2, 1, 2, 2, ' ', 1], [1, 1, 2, 2, 2, 2, ' ', 1], [2, 1, 1, 1, 2, 2, ' ', 1], [4, 3, 4, 2, 1, 1, ' ', 1], [1, 4, 1, 2, ' ', ' ', 4, ' '], [2, 2, 2, 2, 2, 2, ' ', 1], [1, 3, 2, 3, 1, 1, ' ', 4], [2, 1, 2, 1, 2, 2, ' ', 1], [1, 1, 4, 2, 2, 2, ' ', 3], [4, 1, 4, 2, 1, 1, ' ', 2], [1, 4, 3, 2, 2, 3, ' ', 1], [1, 3, 2, 2, 2, 2, ' ', 2], [1, 1, 1, 3, 2, 2, 3, 3], [2, 4, 0, 1, 2, 2, ' ', 2], [2, 1, 1, 1, 1, 1, ' ', 3], [2, 3, 2, 1, 2, 2, ' ', 1], [1, 1, 2, 2, 3, 3, ' ', ' '], [1, 1, 2, 2, 1, 1, ' ', 2], [3, 3, 2, 2, 2, 1, ' ', ' '], [2, 1, 2, 1, 1, 1, 1, 2], [2, 2, 2, 1, 1, 1, ' ', 1], [1, 4, 1, 1, 2, 2, ' ', 1]]\n",
            "170\n",
            "['CityName', 'County', 'Popluation_Density', 'Markets_Numbers', 'Educated_Score', 'Fastfood_Restaurant_Numbers', 'Covid19_Confirmed_Numbers', 'Covid19_Deaths_Numbers', 'Annual_Temperature', 'Crime_Rate']\n"
          ],
          "name": "stdout"
        }
      ]
    },
    {
      "cell_type": "markdown",
      "metadata": {
        "id": "C4KGjtO_FssI"
      },
      "source": [
        "Then according to the user's input, we transform\n",
        "ranking in to numerical value and calculate the distance_norm2 between user_input and X"
      ]
    },
    {
      "cell_type": "code",
      "metadata": {
        "id": "uC7iTagXWI5J"
      },
      "source": [
        "label = [\"Score\"] + features\n",
        "def cal_norm2(X, user):\n",
        "  cal = 0\n",
        "  for i in range(len(X)):\n",
        "    if X[i] != \" \":\n",
        "      cal += (X[i]-user[i])**2\n",
        "  return cal**0.5\n"
      ],
      "execution_count": 10,
      "outputs": []
    },
    {
      "cell_type": "markdown",
      "metadata": {
        "id": "07JBk70mYR2k"
      },
      "source": [
        "We are going to apply K-NN algorithm concept, calculate score for each city.\n",
        "\n"
      ]
    },
    {
      "cell_type": "code",
      "metadata": {
        "cellView": "both",
        "id": "Pj0yt2xxOAAk"
      },
      "source": [
        "#@title Rate importance of each of the following factors\n",
        "\n",
        "\n",
        "Popluation_Density = \"Med\" #@param [\"None\", \"Low\", \"Med\", \"High\", \"very High\"]\n",
        "Markets_Numbers = \"None\" #@param [\"None\", \"Low\", \"Med\", \"High\", \"very High\"]\n",
        "Educated_Score = \"None\" #@param [\"None\", \"Low\", \"Med\", \"High\", \"very High\"]\n",
        "Fastfood_Restaurant_Numbers = \"None\" #@param [\"None\", \"Low\", \"Med\", \"High\", \"very High\"]\n",
        "Covid19_Confirmed_Numbers = \"very High\" #@param [\"None\", \"Low\", \"Med\", \"High\", \"very High\"]\n",
        "Covid19_Deaths_Numbers = \"None\" #@param [\"None\", \"Low\", \"Med\", \"High\", \"very High\"]\n",
        "Annual_Temperature = \"Low\" #@param [\"None\", \"Low\", \"Med\", \"High\", \"very High\"]\n",
        "Crime_Rate = \"Med\" #@param [\"None\", \"Low\", \"Med\", \"High\", \"very High\"]\n",
        "\n",
        "weights = [\n",
        "  Popluation_Density,\n",
        "  Markets_Numbers,\n",
        "  Educated_Score,\n",
        "  Fastfood_Restaurant_Numbers,\n",
        "  Covid19_Confirmed_Numbers,\n",
        "  Covid19_Deaths_Numbers,\n",
        "  Annual_Temperature,\n",
        "  Crime_Rate\n",
        "]\n",
        "\n",
        "replace = {'None': 0, 'Low': 1, 'Med': 2, 'High': 3, \"very High\": 4}\n",
        "user_input = [replace[w] for w in weights]\n",
        "\n",
        "\n",
        "result = []\n",
        "for i in range(len(X)):\n",
        "  score_each_cites = cal_norm2(X[i],user_input)\n",
        "  #score.append(10-score_each_cites)\n",
        "  result.append([10-score_each_cites] + dataset[i])\n",
        "\n",
        "\n",
        "result.sort(reverse=True)\n",
        "\n",
        "\n",
        "#print(features)\n",
        "#for i in range(len(result)):\n",
        "#  print(result[i])\n",
        "\n",
        "\n",
        "\n"
      ],
      "execution_count": 11,
      "outputs": []
    },
    {
      "cell_type": "markdown",
      "metadata": {
        "id": "rXhlRuBjm7GV"
      },
      "source": [
        "Actually, we implemented K = 1 because each of city is a different catogoric. And we can visualize the K=1 K-NN algorithm concept through the follow figure.The vertex showing the decision boundary.\n",
        "\n",
        "<h2>Visualization (Example) </h2>\n",
        "\n",
        "Using Tufte's principles of graphical excellence: \"complex ideas communicated with clarity, precision, and efficiency.\"\n",
        "\n",
        "This is just an example of plotting. Here we only used two features, but the reality it is 8 demensions. Since we cannot draw 8-dimensional graph, we just show you a sample output to describe the process"
      ]
    },
    {
      "cell_type": "code",
      "metadata": {
        "id": "csXYVJ32mOJF",
        "outputId": "a2b89c4d-4d4b-4e83-d0da-1b6afd4b95bd",
        "colab": {
          "base_uri": "https://localhost:8080/",
          "height": 300
        }
      },
      "source": [
        "# use only two of those features in order to plot a 2-d figure into a Voronoi diagram\n",
        "# use 40 points just for a demo\n",
        "import matplotlib.pyplot as plt\n",
        "from scipy.spatial import Voronoi, voronoi_plot_2d\n",
        "import matplotlib.patches as mpatches\n",
        "train_x_2d = [[tmp[3], tmp[5]] for tmp in result[:7]]\n",
        "\n",
        "vor = Voronoi(train_x_2d)\n",
        "voronoi_plot_2d(vor, show_vertices = False)\n",
        "\n",
        "color = [\"b\",\"g\",\"r\",\"c\",\"m\",\"y\",\"k\"]\n",
        "index = 0\n",
        "for i in range(len(train_x_2d)):\n",
        "  plt.plot([train_x_2d[i][0]], [train_x_2d[i][1]], color[i%7]+'o')\n",
        "\n",
        "plt.title(\"Example Result\",fontsize=15)\n",
        "plt.xlabel(\"Market numbers\",fontsize=12)\n",
        "plt.ylabel(\"Fastfood_Restaurant Numbers\",fontsize=12)\n",
        "\n",
        "b_patch = mpatches.Patch(color='b', label='Austin')\n",
        "g_patch = mpatches.Patch(color='g', label='Dallas')\n",
        "r_patch = mpatches.Patch(color='r', label='Henderson')\n",
        "c_patch = mpatches.Patch(color='c', label='Manchester')\n",
        "m_patch = mpatches.Patch(color='m', label='Los angeles')\n",
        "y_patch = mpatches.Patch(color='y', label='Nashua')\n",
        "k_patch = mpatches.Patch(color='k', label='New york')\n",
        "\n",
        "plt.legend(handles=[b_patch,g_patch,r_patch,c_patch,m_patch,y_patch,k_patch], bbox_to_anchor=(1.10, .9), loc='upper left', borderaxespad=0.)\n",
        "plt.annotate('This is just a sample example of the graph.\\nThe actual graph is going to be 8 dimensions.\\nHere we only have two dimensions.', xy=(1.10, .18), fontsize =12, color = 'gray', xycoords='axes fraction')\n",
        "plt.show()"
      ],
      "execution_count": 12,
      "outputs": [
        {
          "output_type": "display_data",
          "data": {
            "image/png": "[encoded data removed]",
            "text/plain": [
              "<Figure size 432x288 with 1 Axes>"
            ]
          },
          "metadata": {
            "tags": [],
            "needs_background": "light"
          }
        }
      ]
    },
    {
      "cell_type": "markdown",
      "metadata": {
        "id": "_p6TLyZDW12h"
      },
      "source": [
        "<h2>Result</h2>"
      ]
    },
    {
      "cell_type": "code",
      "metadata": {
        "id": "s1WCxshh94LN"
      },
      "source": [
        "final_top_fives = []\n",
        "\n",
        "for i in range (0,5):\n",
        "    final_top_fives.append((result[i])[1])"
      ],
      "execution_count": 13,
      "outputs": []
    },
    {
      "cell_type": "markdown",
      "metadata": {
        "id": "bK7qbFaWW4q_"
      },
      "source": [
        "<h3>Users can consider 8 features</h3>\n",
        "\n",
        "<h4>Popluation_Density<br><br>Markets_Numbers<br><br>Educated_Score<br><br>Fastfood_Restaurant_Numbers<br><br>\n",
        "Covid19_Confirmed_Numbers<br><br>Covid19_Deaths_Numbers<br><br>Annual_Temperature<br><br>Crime_Rate</h4>\n",
        "\n",
        "<h4>Consider Level: None | Low | Medium | High | Very High <br></h4>\n",
        "\n",
        "<h4>In this example, we assumed users chose:<br></h4>\n",
        "\n",
        "\n",
        "<li>Popluation_Density = \"Medium\" </li>\n",
        "<li>Markets_Numbers = \"None\" </li>\n",
        "<li>Educated_Score = \"None\" </li>\n",
        "<li>Fastfood_Restaurant_Numbers = \"None\" </li>\n",
        "<li>Covid19_Confirmed_Numbers = \"very High\" </li>\n",
        "<li>Covid19_Deaths_Numbers = \"None\" </li>\n",
        "<li>Annual_Temperature = \"Low\" </li>\n",
        "<li>Crime_Rate = \"Med\" </li>\n",
        "\n"
      ]
    },
    {
      "cell_type": "code",
      "metadata": {
        "scrolled": true,
        "id": "fyJrnTzyXH2i",
        "outputId": "d30c5fa9-bc07-4698-c2f1-76810eed88cb",
        "colab": {
          "base_uri": "https://localhost:8080/",
          "height": 54
        }
      },
      "source": [
        "print(\"We are going to give top 5 cities as suggestions: \")\n",
        "print(final_top_fives)"
      ],
      "execution_count": 14,
      "outputs": [
        {
          "output_type": "stream",
          "text": [
            "We are going to give top 5 cities as suggestions: \n",
            "['modesto', 'fresno', 'scranton', 'san bernardino', 'roseville']\n"
          ],
          "name": "stdout"
        }
      ]
    },
    {
      "cell_type": "markdown",
      "metadata": {
        "id": "hqAmZVsjXH2l"
      },
      "source": [
        "Thank you."
      ]
    }
  ]
}